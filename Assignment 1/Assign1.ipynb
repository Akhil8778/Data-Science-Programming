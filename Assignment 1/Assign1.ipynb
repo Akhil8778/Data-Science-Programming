{
 "cells": [
  {
   "cell_type": "markdown",
   "id": "163f47a8",
   "metadata": {},
   "source": [
    "# Inroduction about the dataset "
   ]
  },
  {
   "cell_type": "markdown",
   "id": "80b62d01",
   "metadata": {},
   "source": [
    "#The dataset is record of product sales and taxes associated with the products. Each row of the dataset represents a single transaction of a product sale, with the attributes providing information about the product being sold, the quantity sold, the rate at which it was sold, the subtotal, taxes applied, and the final total amount.\n",
    "\n",
    "#Using the \"originalrate\" attribute as the target variable, we can develop machine learning models to predict the future rate of a product based on its sales history and other relevant factors. This can help businesses to optimize their pricing strategies and increase profitability, and  I want to use all the models which we tried in the class and find the best-fit model.\n"
   ]
  },
  {
   "cell_type": "markdown",
   "id": "02237111",
   "metadata": {},
   "source": [
    "## Setup"
   ]
  },
  {
   "cell_type": "code",
   "execution_count": 20,
   "id": "ab9c3e6e",
   "metadata": {},
   "outputs": [],
   "source": [
    "# import numpy and pandas libraries\n",
    "import numpy as np\n",
    "import pandas as pd\n",
    "from sklearn.preprocessing import LabelEncoder\n",
    "from sklearn.model_selection import train_test_split\n",
    "from sklearn import preprocessing\n",
    "from sklearn.impute import SimpleImputer\n",
    "# set random seed to ensure that results are repeatable\n",
    "np.random.seed(1)"
   ]
  },
  {
   "cell_type": "markdown",
   "id": "3a820903",
   "metadata": {},
   "source": [
    "# Load the data"
   ]
  },
  {
   "cell_type": "code",
   "execution_count": 21,
   "id": "afcf4531",
   "metadata": {},
   "outputs": [
    {
     "data": {
      "text/html": [
       "<div>\n",
       "<style scoped>\n",
       "    .dataframe tbody tr th:only-of-type {\n",
       "        vertical-align: middle;\n",
       "    }\n",
       "\n",
       "    .dataframe tbody tr th {\n",
       "        vertical-align: top;\n",
       "    }\n",
       "\n",
       "    .dataframe thead th {\n",
       "        text-align: right;\n",
       "    }\n",
       "</style>\n",
       "<table border=\"1\" class=\"dataframe\">\n",
       "  <thead>\n",
       "    <tr style=\"text-align: right;\">\n",
       "      <th></th>\n",
       "      <th>productname</th>\n",
       "      <th>uom</th>\n",
       "      <th>qty</th>\n",
       "      <th>rate</th>\n",
       "      <th>amount</th>\n",
       "      <th>taxableamt</th>\n",
       "      <th>cgstrate</th>\n",
       "      <th>cgstamt</th>\n",
       "      <th>sgstrate</th>\n",
       "      <th>sgstamt</th>\n",
       "      <th>total</th>\n",
       "      <th>originalrate</th>\n",
       "    </tr>\n",
       "  </thead>\n",
       "  <tbody>\n",
       "    <tr>\n",
       "      <th>0</th>\n",
       "      <td>671-LT</td>\n",
       "      <td>Nos</td>\n",
       "      <td>14</td>\n",
       "      <td>155.0</td>\n",
       "      <td>2170.0</td>\n",
       "      <td>2170.0</td>\n",
       "      <td>9.0</td>\n",
       "      <td>195.30</td>\n",
       "      <td>9.0</td>\n",
       "      <td>195.30</td>\n",
       "      <td>2560.6</td>\n",
       "      <td>155.0</td>\n",
       "    </tr>\n",
       "    <tr>\n",
       "      <th>1</th>\n",
       "      <td>673-HLA</td>\n",
       "      <td>Nos</td>\n",
       "      <td>1</td>\n",
       "      <td>155.0</td>\n",
       "      <td>155.0</td>\n",
       "      <td>155.0</td>\n",
       "      <td>9.0</td>\n",
       "      <td>13.95</td>\n",
       "      <td>9.0</td>\n",
       "      <td>13.95</td>\n",
       "      <td>182.9</td>\n",
       "      <td>155.0</td>\n",
       "    </tr>\n",
       "    <tr>\n",
       "      <th>2</th>\n",
       "      <td>GIALLO GRENE</td>\n",
       "      <td>Nos</td>\n",
       "      <td>3</td>\n",
       "      <td>230.0</td>\n",
       "      <td>690.0</td>\n",
       "      <td>690.0</td>\n",
       "      <td>9.0</td>\n",
       "      <td>62.10</td>\n",
       "      <td>9.0</td>\n",
       "      <td>62.10</td>\n",
       "      <td>814.2</td>\n",
       "      <td>230.0</td>\n",
       "    </tr>\n",
       "  </tbody>\n",
       "</table>\n",
       "</div>"
      ],
      "text/plain": [
       "    productname  uom  qty   rate  amount  taxableamt  cgstrate  cgstamt  \\\n",
       "0        671-LT  Nos   14  155.0  2170.0      2170.0       9.0   195.30   \n",
       "1       673-HLA  Nos    1  155.0   155.0       155.0       9.0    13.95   \n",
       "2  GIALLO GRENE  Nos    3  230.0   690.0       690.0       9.0    62.10   \n",
       "\n",
       "   sgstrate  sgstamt   total  originalrate  \n",
       "0       9.0   195.30  2560.6         155.0  \n",
       "1       9.0    13.95   182.9         155.0  \n",
       "2       9.0    62.10   814.2         230.0  "
      ]
     },
     "execution_count": 21,
     "metadata": {},
     "output_type": "execute_result"
    }
   ],
   "source": [
    "assign1=pd.read_csv(r\"C:\\Users\\akhil\\OneDrive - University of South Florida\\Desktop\\DSP\\Assignment1\\product.csv\", encoding='ISO-8859-1')\n",
    "assign1.head(3)"
   ]
  },
  {
   "cell_type": "markdown",
   "id": "adee274a",
   "metadata": {},
   "source": [
    "### checking whether if there are null values"
   ]
  },
  {
   "cell_type": "code",
   "execution_count": 22,
   "id": "caf8a082",
   "metadata": {},
   "outputs": [
    {
     "data": {
      "text/plain": [
       "productname     0\n",
       "uom             0\n",
       "qty             0\n",
       "rate            0\n",
       "amount          0\n",
       "taxableamt      0\n",
       "cgstrate        0\n",
       "cgstamt         0\n",
       "sgstrate        0\n",
       "sgstamt         0\n",
       "total           0\n",
       "originalrate    0\n",
       "dtype: int64"
      ]
     },
     "execution_count": 22,
     "metadata": {},
     "output_type": "execute_result"
    }
   ],
   "source": [
    "assign1.isna().sum()"
   ]
  },
  {
   "cell_type": "code",
   "execution_count": 23,
   "id": "47d900fc",
   "metadata": {},
   "outputs": [
    {
     "data": {
      "text/plain": [
       "Index(['productname', 'uom', 'qty', 'rate', 'amount', 'taxableamt', 'cgstrate',\n",
       "       'cgstamt', 'sgstrate', 'sgstamt', 'total', 'originalrate'],\n",
       "      dtype='object')"
      ]
     },
     "execution_count": 23,
     "metadata": {},
     "output_type": "execute_result"
    }
   ],
   "source": [
    "assign1.columns"
   ]
  },
  {
   "cell_type": "markdown",
   "id": "0d595ba4",
   "metadata": {},
   "source": [
    "## One Hot Encoding"
   ]
  },
  {
   "cell_type": "markdown",
   "id": "ae9332f6",
   "metadata": {},
   "source": [
    "#One-hot encoding is typically used for categorical data, where each category is represented as a binary vector. \n",
    "\n",
    "#In the table provided, the only column that contains categorical data is the \"uom\" column, which represents the unit of measurement for each product.\n",
    "\n",
    "#Therefore, we can do one-hot encoding for the \"uom\" column."
   ]
  },
  {
   "cell_type": "code",
   "execution_count": 24,
   "id": "d9f6ca94",
   "metadata": {},
   "outputs": [],
   "source": [
    "one_hot_encoding = pd.get_dummies(assign1[['uom']])"
   ]
  },
  {
   "cell_type": "code",
   "execution_count": 25,
   "id": "a2963b25",
   "metadata": {},
   "outputs": [],
   "source": [
    "assign1 = assign1.join(one_hot_encoding)"
   ]
  },
  {
   "cell_type": "code",
   "execution_count": 26,
   "id": "4a78ddd2",
   "metadata": {},
   "outputs": [],
   "source": [
    "#droping the uom column\n",
    "assign1 = assign1.drop(['uom'],axis=1)"
   ]
  },
  {
   "cell_type": "markdown",
   "id": "9bce81a8",
   "metadata": {},
   "source": [
    "#Doing labelencoding for the productname Column for converting categorical data into numerical format by assigning a unique integer to each category."
   ]
  },
  {
   "cell_type": "code",
   "execution_count": 27,
   "id": "2ecab935",
   "metadata": {},
   "outputs": [],
   "source": [
    "labelencoder = LabelEncoder()\n",
    "assign1['productname'] = labelencoder.fit_transform(assign1['productname'])"
   ]
  },
  {
   "cell_type": "code",
   "execution_count": 28,
   "id": "7b460113",
   "metadata": {},
   "outputs": [
    {
     "name": "stdout",
     "output_type": "stream",
     "text": [
      "<class 'pandas.core.frame.DataFrame'>\n",
      "RangeIndex: 1132 entries, 0 to 1131\n",
      "Data columns (total 17 columns):\n",
      " #   Column        Non-Null Count  Dtype  \n",
      "---  ------        --------------  -----  \n",
      " 0   productname   1132 non-null   int32  \n",
      " 1   qty           1132 non-null   int64  \n",
      " 2   rate          1132 non-null   float64\n",
      " 3   amount        1132 non-null   float64\n",
      " 4   taxableamt    1132 non-null   float64\n",
      " 5   cgstrate      1132 non-null   float64\n",
      " 6   cgstamt       1132 non-null   float64\n",
      " 7   sgstrate      1132 non-null   float64\n",
      " 8   sgstamt       1132 non-null   float64\n",
      " 9   total         1132 non-null   float64\n",
      " 10  originalrate  1132 non-null   float64\n",
      " 11  uom_2         1132 non-null   uint8  \n",
      " 12  uom_BAG       1132 non-null   uint8  \n",
      " 13  uom_BOX       1132 non-null   uint8  \n",
      " 14  uom_Box       1132 non-null   uint8  \n",
      " 15  uom_NOS       1132 non-null   uint8  \n",
      " 16  uom_Nos       1132 non-null   uint8  \n",
      "dtypes: float64(9), int32(1), int64(1), uint8(6)\n",
      "memory usage: 99.6 KB\n"
     ]
    }
   ],
   "source": [
    "assign1.info()"
   ]
  },
  {
   "cell_type": "code",
   "execution_count": 29,
   "id": "8f2426c8",
   "metadata": {},
   "outputs": [
    {
     "data": {
      "text/html": [
       "<div>\n",
       "<style scoped>\n",
       "    .dataframe tbody tr th:only-of-type {\n",
       "        vertical-align: middle;\n",
       "    }\n",
       "\n",
       "    .dataframe tbody tr th {\n",
       "        vertical-align: top;\n",
       "    }\n",
       "\n",
       "    .dataframe thead th {\n",
       "        text-align: right;\n",
       "    }\n",
       "</style>\n",
       "<table border=\"1\" class=\"dataframe\">\n",
       "  <thead>\n",
       "    <tr style=\"text-align: right;\">\n",
       "      <th></th>\n",
       "      <th>productname</th>\n",
       "      <th>qty</th>\n",
       "      <th>rate</th>\n",
       "      <th>amount</th>\n",
       "      <th>taxableamt</th>\n",
       "      <th>cgstrate</th>\n",
       "      <th>cgstamt</th>\n",
       "      <th>sgstrate</th>\n",
       "      <th>sgstamt</th>\n",
       "      <th>total</th>\n",
       "      <th>originalrate</th>\n",
       "      <th>uom_2</th>\n",
       "      <th>uom_BAG</th>\n",
       "      <th>uom_BOX</th>\n",
       "      <th>uom_Box</th>\n",
       "      <th>uom_NOS</th>\n",
       "      <th>uom_Nos</th>\n",
       "    </tr>\n",
       "  </thead>\n",
       "  <tbody>\n",
       "    <tr>\n",
       "      <th>0</th>\n",
       "      <td>27</td>\n",
       "      <td>14</td>\n",
       "      <td>155.0</td>\n",
       "      <td>2170.0</td>\n",
       "      <td>2170.0</td>\n",
       "      <td>9.0</td>\n",
       "      <td>195.30</td>\n",
       "      <td>9.0</td>\n",
       "      <td>195.30</td>\n",
       "      <td>2560.6</td>\n",
       "      <td>155.0</td>\n",
       "      <td>0</td>\n",
       "      <td>0</td>\n",
       "      <td>0</td>\n",
       "      <td>0</td>\n",
       "      <td>0</td>\n",
       "      <td>1</td>\n",
       "    </tr>\n",
       "    <tr>\n",
       "      <th>1</th>\n",
       "      <td>28</td>\n",
       "      <td>1</td>\n",
       "      <td>155.0</td>\n",
       "      <td>155.0</td>\n",
       "      <td>155.0</td>\n",
       "      <td>9.0</td>\n",
       "      <td>13.95</td>\n",
       "      <td>9.0</td>\n",
       "      <td>13.95</td>\n",
       "      <td>182.9</td>\n",
       "      <td>155.0</td>\n",
       "      <td>0</td>\n",
       "      <td>0</td>\n",
       "      <td>0</td>\n",
       "      <td>0</td>\n",
       "      <td>0</td>\n",
       "      <td>1</td>\n",
       "    </tr>\n",
       "    <tr>\n",
       "      <th>2</th>\n",
       "      <td>191</td>\n",
       "      <td>3</td>\n",
       "      <td>230.0</td>\n",
       "      <td>690.0</td>\n",
       "      <td>690.0</td>\n",
       "      <td>9.0</td>\n",
       "      <td>62.10</td>\n",
       "      <td>9.0</td>\n",
       "      <td>62.10</td>\n",
       "      <td>814.2</td>\n",
       "      <td>230.0</td>\n",
       "      <td>0</td>\n",
       "      <td>0</td>\n",
       "      <td>0</td>\n",
       "      <td>0</td>\n",
       "      <td>0</td>\n",
       "      <td>1</td>\n",
       "    </tr>\n",
       "    <tr>\n",
       "      <th>3</th>\n",
       "      <td>96</td>\n",
       "      <td>28</td>\n",
       "      <td>475.0</td>\n",
       "      <td>13300.0</td>\n",
       "      <td>13300.0</td>\n",
       "      <td>9.0</td>\n",
       "      <td>1197.00</td>\n",
       "      <td>9.0</td>\n",
       "      <td>1197.00</td>\n",
       "      <td>15694.0</td>\n",
       "      <td>475.0</td>\n",
       "      <td>0</td>\n",
       "      <td>0</td>\n",
       "      <td>0</td>\n",
       "      <td>0</td>\n",
       "      <td>0</td>\n",
       "      <td>1</td>\n",
       "    </tr>\n",
       "    <tr>\n",
       "      <th>4</th>\n",
       "      <td>201</td>\n",
       "      <td>2</td>\n",
       "      <td>255.0</td>\n",
       "      <td>510.0</td>\n",
       "      <td>510.0</td>\n",
       "      <td>9.0</td>\n",
       "      <td>45.90</td>\n",
       "      <td>9.0</td>\n",
       "      <td>45.90</td>\n",
       "      <td>601.8</td>\n",
       "      <td>255.0</td>\n",
       "      <td>0</td>\n",
       "      <td>0</td>\n",
       "      <td>0</td>\n",
       "      <td>0</td>\n",
       "      <td>0</td>\n",
       "      <td>1</td>\n",
       "    </tr>\n",
       "  </tbody>\n",
       "</table>\n",
       "</div>"
      ],
      "text/plain": [
       "   productname  qty   rate   amount  taxableamt  cgstrate  cgstamt  sgstrate  \\\n",
       "0           27   14  155.0   2170.0      2170.0       9.0   195.30       9.0   \n",
       "1           28    1  155.0    155.0       155.0       9.0    13.95       9.0   \n",
       "2          191    3  230.0    690.0       690.0       9.0    62.10       9.0   \n",
       "3           96   28  475.0  13300.0     13300.0       9.0  1197.00       9.0   \n",
       "4          201    2  255.0    510.0       510.0       9.0    45.90       9.0   \n",
       "\n",
       "   sgstamt    total  originalrate  uom_2  uom_BAG  uom_BOX  uom_Box  uom_NOS  \\\n",
       "0   195.30   2560.6         155.0      0        0        0        0        0   \n",
       "1    13.95    182.9         155.0      0        0        0        0        0   \n",
       "2    62.10    814.2         230.0      0        0        0        0        0   \n",
       "3  1197.00  15694.0         475.0      0        0        0        0        0   \n",
       "4    45.90    601.8         255.0      0        0        0        0        0   \n",
       "\n",
       "   uom_Nos  \n",
       "0        1  \n",
       "1        1  \n",
       "2        1  \n",
       "3        1  \n",
       "4        1  "
      ]
     },
     "execution_count": 29,
     "metadata": {},
     "output_type": "execute_result"
    }
   ],
   "source": [
    "assign1.head()"
   ]
  },
  {
   "cell_type": "code",
   "execution_count": 30,
   "id": "c654f683",
   "metadata": {},
   "outputs": [
    {
     "data": {
      "text/plain": [
       "count    1132.000000\n",
       "mean      864.544643\n",
       "std       962.922079\n",
       "min        33.000000\n",
       "25%       333.750000\n",
       "50%       605.000000\n",
       "75%       991.250000\n",
       "max      7625.000000\n",
       "Name: originalrate, dtype: float64"
      ]
     },
     "execution_count": 30,
     "metadata": {},
     "output_type": "execute_result"
    }
   ],
   "source": [
    "assign1['originalrate'].describe()"
   ]
  },
  {
   "cell_type": "markdown",
   "id": "dd61eabe",
   "metadata": {},
   "source": [
    "### Converting Continuous variable to categorical variable"
   ]
  },
  {
   "cell_type": "markdown",
   "id": "56b69f1d",
   "metadata": {},
   "source": [
    "#As we can see original rate is continuous target variable, to use the logistic regression, we are converting continuous \"originalrate\" variable into a categorical variable by binning it into multiple categories using a threshold value."
   ]
  },
  {
   "cell_type": "code",
   "execution_count": 31,
   "id": "a880da38",
   "metadata": {},
   "outputs": [],
   "source": [
    "# Define the bin edges for the originalrate variable\n",
    "bin_edges = [0, 333.75, 605, 991.25, 7625]\n",
    "# Define the labels for each rate category\n",
    "labels = [1, 2, 3, 4]"
   ]
  },
  {
   "cell_type": "code",
   "execution_count": 32,
   "id": "22c2832d",
   "metadata": {},
   "outputs": [],
   "source": [
    "# Bin the originalrate variable into the specified intervals\n",
    "assign1['rate_category'] = pd.cut(assign1['originalrate'], bins=bin_edges, labels=labels, include_lowest=True)"
   ]
  },
  {
   "cell_type": "code",
   "execution_count": 33,
   "id": "7741a559",
   "metadata": {},
   "outputs": [],
   "source": [
    "# Convert the rate_category variable to integer type\n",
    "assign1['rate_category'] = assign1['rate_category'].astype(np.int64)"
   ]
  },
  {
   "cell_type": "code",
   "execution_count": 34,
   "id": "cac0428e",
   "metadata": {},
   "outputs": [
    {
     "name": "stdout",
     "output_type": "stream",
     "text": [
      "2    286\n",
      "1    283\n",
      "4    283\n",
      "3    280\n",
      "Name: rate_category, dtype: int64\n"
     ]
    }
   ],
   "source": [
    "# Print the number of samples in each rate category\n",
    "print(assign1['rate_category'].value_counts())"
   ]
  },
  {
   "cell_type": "code",
   "execution_count": 35,
   "id": "b489c178",
   "metadata": {},
   "outputs": [],
   "source": [
    "#Now we are using rate_category as target variable and droping originalrate from the table"
   ]
  },
  {
   "cell_type": "code",
   "execution_count": 36,
   "id": "6b99b58a",
   "metadata": {},
   "outputs": [],
   "source": [
    "assign1 = assign1.drop('originalrate', axis=1)"
   ]
  },
  {
   "cell_type": "code",
   "execution_count": 38,
   "id": "ae3f4df8",
   "metadata": {},
   "outputs": [
    {
     "data": {
      "text/html": [
       "<div>\n",
       "<style scoped>\n",
       "    .dataframe tbody tr th:only-of-type {\n",
       "        vertical-align: middle;\n",
       "    }\n",
       "\n",
       "    .dataframe tbody tr th {\n",
       "        vertical-align: top;\n",
       "    }\n",
       "\n",
       "    .dataframe thead th {\n",
       "        text-align: right;\n",
       "    }\n",
       "</style>\n",
       "<table border=\"1\" class=\"dataframe\">\n",
       "  <thead>\n",
       "    <tr style=\"text-align: right;\">\n",
       "      <th></th>\n",
       "      <th>productname</th>\n",
       "      <th>qty</th>\n",
       "      <th>rate</th>\n",
       "      <th>amount</th>\n",
       "      <th>taxableamt</th>\n",
       "      <th>cgstrate</th>\n",
       "      <th>cgstamt</th>\n",
       "      <th>sgstrate</th>\n",
       "      <th>sgstamt</th>\n",
       "      <th>total</th>\n",
       "      <th>uom_2</th>\n",
       "      <th>uom_BAG</th>\n",
       "      <th>uom_BOX</th>\n",
       "      <th>uom_Box</th>\n",
       "      <th>uom_NOS</th>\n",
       "      <th>uom_Nos</th>\n",
       "      <th>rate_category</th>\n",
       "    </tr>\n",
       "  </thead>\n",
       "  <tbody>\n",
       "    <tr>\n",
       "      <th>0</th>\n",
       "      <td>27</td>\n",
       "      <td>14</td>\n",
       "      <td>155.0</td>\n",
       "      <td>2170.0</td>\n",
       "      <td>2170.0</td>\n",
       "      <td>9.0</td>\n",
       "      <td>195.30</td>\n",
       "      <td>9.0</td>\n",
       "      <td>195.30</td>\n",
       "      <td>2560.6</td>\n",
       "      <td>0</td>\n",
       "      <td>0</td>\n",
       "      <td>0</td>\n",
       "      <td>0</td>\n",
       "      <td>0</td>\n",
       "      <td>1</td>\n",
       "      <td>1</td>\n",
       "    </tr>\n",
       "    <tr>\n",
       "      <th>1</th>\n",
       "      <td>28</td>\n",
       "      <td>1</td>\n",
       "      <td>155.0</td>\n",
       "      <td>155.0</td>\n",
       "      <td>155.0</td>\n",
       "      <td>9.0</td>\n",
       "      <td>13.95</td>\n",
       "      <td>9.0</td>\n",
       "      <td>13.95</td>\n",
       "      <td>182.9</td>\n",
       "      <td>0</td>\n",
       "      <td>0</td>\n",
       "      <td>0</td>\n",
       "      <td>0</td>\n",
       "      <td>0</td>\n",
       "      <td>1</td>\n",
       "      <td>1</td>\n",
       "    </tr>\n",
       "    <tr>\n",
       "      <th>2</th>\n",
       "      <td>191</td>\n",
       "      <td>3</td>\n",
       "      <td>230.0</td>\n",
       "      <td>690.0</td>\n",
       "      <td>690.0</td>\n",
       "      <td>9.0</td>\n",
       "      <td>62.10</td>\n",
       "      <td>9.0</td>\n",
       "      <td>62.10</td>\n",
       "      <td>814.2</td>\n",
       "      <td>0</td>\n",
       "      <td>0</td>\n",
       "      <td>0</td>\n",
       "      <td>0</td>\n",
       "      <td>0</td>\n",
       "      <td>1</td>\n",
       "      <td>1</td>\n",
       "    </tr>\n",
       "    <tr>\n",
       "      <th>3</th>\n",
       "      <td>96</td>\n",
       "      <td>28</td>\n",
       "      <td>475.0</td>\n",
       "      <td>13300.0</td>\n",
       "      <td>13300.0</td>\n",
       "      <td>9.0</td>\n",
       "      <td>1197.00</td>\n",
       "      <td>9.0</td>\n",
       "      <td>1197.00</td>\n",
       "      <td>15694.0</td>\n",
       "      <td>0</td>\n",
       "      <td>0</td>\n",
       "      <td>0</td>\n",
       "      <td>0</td>\n",
       "      <td>0</td>\n",
       "      <td>1</td>\n",
       "      <td>2</td>\n",
       "    </tr>\n",
       "    <tr>\n",
       "      <th>4</th>\n",
       "      <td>201</td>\n",
       "      <td>2</td>\n",
       "      <td>255.0</td>\n",
       "      <td>510.0</td>\n",
       "      <td>510.0</td>\n",
       "      <td>9.0</td>\n",
       "      <td>45.90</td>\n",
       "      <td>9.0</td>\n",
       "      <td>45.90</td>\n",
       "      <td>601.8</td>\n",
       "      <td>0</td>\n",
       "      <td>0</td>\n",
       "      <td>0</td>\n",
       "      <td>0</td>\n",
       "      <td>0</td>\n",
       "      <td>1</td>\n",
       "      <td>1</td>\n",
       "    </tr>\n",
       "  </tbody>\n",
       "</table>\n",
       "</div>"
      ],
      "text/plain": [
       "   productname  qty   rate   amount  taxableamt  cgstrate  cgstamt  sgstrate  \\\n",
       "0           27   14  155.0   2170.0      2170.0       9.0   195.30       9.0   \n",
       "1           28    1  155.0    155.0       155.0       9.0    13.95       9.0   \n",
       "2          191    3  230.0    690.0       690.0       9.0    62.10       9.0   \n",
       "3           96   28  475.0  13300.0     13300.0       9.0  1197.00       9.0   \n",
       "4          201    2  255.0    510.0       510.0       9.0    45.90       9.0   \n",
       "\n",
       "   sgstamt    total  uom_2  uom_BAG  uom_BOX  uom_Box  uom_NOS  uom_Nos  \\\n",
       "0   195.30   2560.6      0        0        0        0        0        1   \n",
       "1    13.95    182.9      0        0        0        0        0        1   \n",
       "2    62.10    814.2      0        0        0        0        0        1   \n",
       "3  1197.00  15694.0      0        0        0        0        0        1   \n",
       "4    45.90    601.8      0        0        0        0        0        1   \n",
       "\n",
       "   rate_category  \n",
       "0              1  \n",
       "1              1  \n",
       "2              1  \n",
       "3              2  \n",
       "4              1  "
      ]
     },
     "execution_count": 38,
     "metadata": {},
     "output_type": "execute_result"
    }
   ],
   "source": [
    "assign1.head()"
   ]
  },
  {
   "cell_type": "markdown",
   "id": "e5f7360c",
   "metadata": {},
   "source": [
    "# Spliting the data to train and test"
   ]
  },
  {
   "cell_type": "code",
   "execution_count": 39,
   "id": "5b867028",
   "metadata": {},
   "outputs": [],
   "source": [
    "train_df, test_df = train_test_split(assign1, test_size=0.3)\n",
    "\n",
    "\n",
    "target = 'rate_category'\n",
    "predictors = list(assign1.columns)\n",
    "predictors.remove(target)"
   ]
  },
  {
   "cell_type": "code",
   "execution_count": 40,
   "id": "f15b41e8",
   "metadata": {},
   "outputs": [],
   "source": [
    "scaler = preprocessing.StandardScaler()\n",
    "cols_to_stdize = ['qty', 'rate', 'amount', 'taxableamt', 'cgstrate',\n",
    "       'cgstamt', 'sgstrate', 'sgstamt', 'total'] \n",
    "train_df[cols_to_stdize] = scaler.fit_transform(train_df[cols_to_stdize]) \n",
    "\n",
    "\n",
    "test_df[cols_to_stdize] = scaler.transform(test_df[cols_to_stdize]) "
   ]
  },
  {
   "cell_type": "code",
   "execution_count": 41,
   "id": "d53e76f8",
   "metadata": {},
   "outputs": [],
   "source": [
    "train_X = train_df[predictors]\n",
    "train_y = train_df[target] \n",
    "test_X = test_df[predictors]\n",
    "test_y = test_df[target] \n",
    "\n",
    "train_df.to_csv('assign1_train_df.csv', index=False)\n",
    "train_X.to_csv('assign1_train_X.csv', index=False)\n",
    "train_y.to_csv('assign1_train_y.csv', index=False)\n",
    "test_df.to_csv('assign1_test_df.csv', index=False)\n",
    "test_X.to_csv('assign1_test_X.csv', index=False)\n",
    "test_y.to_csv('assign1_test_y.csv', index=False)"
   ]
  },
  {
   "cell_type": "code",
   "execution_count": null,
   "id": "e2294ca0",
   "metadata": {},
   "outputs": [],
   "source": []
  }
 ],
 "metadata": {
  "kernelspec": {
   "display_name": "Python 3 (ipykernel)",
   "language": "python",
   "name": "python3"
  },
  "language_info": {
   "codemirror_mode": {
    "name": "ipython",
    "version": 3
   },
   "file_extension": ".py",
   "mimetype": "text/x-python",
   "name": "python",
   "nbconvert_exporter": "python",
   "pygments_lexer": "ipython3",
   "version": "3.9.12"
  }
 },
 "nbformat": 4,
 "nbformat_minor": 5
}
