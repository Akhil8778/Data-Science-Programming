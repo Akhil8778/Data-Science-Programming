{
 "cells": [
  {
   "cell_type": "code",
   "execution_count": 12,
   "id": "78dfab32",
   "metadata": {},
   "outputs": [
    {
     "name": "stdout",
     "output_type": "stream",
     "text": [
      "\n",
      "*****************************************************\n",
      "* Lawnmover Ownership Prediction Model *\n",
      "*****************************************************\n",
      "\n",
      "Income: 50\n",
      "Lotsize: 15\n",
      "Prediction Model shows Ownership Probability at 0.5128, hence, it is interpreted as: Owner.\n",
      "\n"
     ]
    }
   ],
   "source": [
    "import pandas as pd\n",
    "import numpy as np\n",
    "import matplotlib.pyplot as plt\n",
    "from sklearn.metrics import confusion_matrix\n",
    "\n",
    "import pickle\n",
    "\n",
    "# Uncomment the following snippet of code to debug problems with finding the .pkl file path\n",
    "# This snippet of code will exit the program and print the current working directory.\n",
    "#import os\n",
    "#exit(os.getcwd())\n",
    "\n",
    "ridingmowers_model = pickle.load(open(\"C:/Users/akhil/OneDrive - University of South Florida/Desktop/DSP/svm_poly_model.pkl\", \"rb\"))\n",
    "\n",
    "print(\"\\n*****************************************************\")\n",
    "print(\"* lawnowner ownership Prediction Model *\")\n",
    "print(\"*****************************************************\\n\")\n",
    "Income = float(input(\"Income: \"))\n",
    "Lot_Size= float(input(\"Lotsize: \"))\n",
    "df = pd.DataFrame({'Income': [Income], 'Lot_Size': [Lot_Size]})\n",
    "result = ridingmowers_model.predict(df)\n",
    "probability = ridingmowers_model.predict_proba(df)\n",
    "Ownership = ('Owner', 'Nonowner')\n",
    "print(f\"Prediction Model shows Ownership Probability at {probability[0][1]:.4f}, hence, it is interpreted as: {Ownership[result[0]]}.\\n\")"
   ]
  },
  {
   "cell_type": "code",
   "execution_count": null,
   "id": "d5a8314c",
   "metadata": {},
   "outputs": [],
   "source": []
  },
  {
   "cell_type": "code",
   "execution_count": null,
   "id": "c795f336",
   "metadata": {},
   "outputs": [],
   "source": []
  }
 ],
 "metadata": {
  "kernelspec": {
   "display_name": "Python 3 (ipykernel)",
   "language": "python",
   "name": "python3"
  },
  "language_info": {
   "codemirror_mode": {
    "name": "ipython",
    "version": 3
   },
   "file_extension": ".py",
   "mimetype": "text/x-python",
   "name": "python",
   "nbconvert_exporter": "python",
   "pygments_lexer": "ipython3",
   "version": "3.9.12"
  }
 },
 "nbformat": 4,
 "nbformat_minor": 5
}
